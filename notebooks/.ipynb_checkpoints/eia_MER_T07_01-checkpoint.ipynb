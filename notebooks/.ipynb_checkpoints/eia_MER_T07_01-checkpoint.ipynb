{
 "cells": [
  {
   "cell_type": "code",
   "execution_count": 1,
   "id": "a8809908",
   "metadata": {},
   "outputs": [],
   "source": [
    "import pandas as pd\n",
    "import numpy as np\n",
    "import matplotlib.pyplot as plt\n",
    "import seaborn as sns\n",
    "\n",
    "%matplotlib inline"
   ]
  },
  {
   "cell_type": "code",
   "execution_count": 2,
   "id": "0adaff0d",
   "metadata": {},
   "outputs": [],
   "source": [
    "temporary_name = pd.read_csv('../data/Source of Data - eia.gov/MER_T07_01.csv')"
   ]
  },
  {
   "cell_type": "code",
   "execution_count": 3,
   "id": "559c3bb3",
   "metadata": {},
   "outputs": [],
   "source": [
    "pd.set_option('display.max_columns', None)"
   ]
  },
  {
   "cell_type": "code",
   "execution_count": 5,
   "id": "a2460418",
   "metadata": {},
   "outputs": [
    {
     "name": "stdout",
     "output_type": "stream",
     "text": [
      "<class 'pandas.core.frame.DataFrame'>\n",
      "RangeIndex: 7216 entries, 0 to 7215\n",
      "Data columns (total 6 columns):\n",
      " #   Column        Non-Null Count  Dtype \n",
      "---  ------        --------------  ----- \n",
      " 0   MSN           7216 non-null   object\n",
      " 1   YYYYMM        7216 non-null   int64 \n",
      " 2   Value         7216 non-null   object\n",
      " 3   Column_Order  7216 non-null   int64 \n",
      " 4   Description   7216 non-null   object\n",
      " 5   Unit          7216 non-null   object\n",
      "dtypes: int64(2), object(4)\n",
      "memory usage: 338.4+ KB\n"
     ]
    }
   ],
   "source": [
    "temporary_name.info()"
   ]
  },
  {
   "cell_type": "code",
   "execution_count": 6,
   "id": "d4abc83e",
   "metadata": {},
   "outputs": [
    {
     "data": {
      "text/html": [
       "<div>\n",
       "<style scoped>\n",
       "    .dataframe tbody tr th:only-of-type {\n",
       "        vertical-align: middle;\n",
       "    }\n",
       "\n",
       "    .dataframe tbody tr th {\n",
       "        vertical-align: top;\n",
       "    }\n",
       "\n",
       "    .dataframe thead th {\n",
       "        text-align: right;\n",
       "    }\n",
       "</style>\n",
       "<table border=\"1\" class=\"dataframe\">\n",
       "  <thead>\n",
       "    <tr style=\"text-align: right;\">\n",
       "      <th></th>\n",
       "      <th>MSN</th>\n",
       "      <th>YYYYMM</th>\n",
       "      <th>Value</th>\n",
       "      <th>Column_Order</th>\n",
       "      <th>Description</th>\n",
       "      <th>Unit</th>\n",
       "    </tr>\n",
       "  </thead>\n",
       "  <tbody>\n",
       "    <tr>\n",
       "      <th>0</th>\n",
       "      <td>ELEGPUS</td>\n",
       "      <td>194913</td>\n",
       "      <td>291.1</td>\n",
       "      <td>1</td>\n",
       "      <td>Electricity Net Generation, Electric Power Sector</td>\n",
       "      <td>Billion Kilowatthours</td>\n",
       "    </tr>\n",
       "    <tr>\n",
       "      <th>1</th>\n",
       "      <td>ELEGPUS</td>\n",
       "      <td>195013</td>\n",
       "      <td>329.141</td>\n",
       "      <td>1</td>\n",
       "      <td>Electricity Net Generation, Electric Power Sector</td>\n",
       "      <td>Billion Kilowatthours</td>\n",
       "    </tr>\n",
       "  </tbody>\n",
       "</table>\n",
       "</div>"
      ],
      "text/plain": [
       "       MSN  YYYYMM    Value  Column_Order  \\\n",
       "0  ELEGPUS  194913    291.1             1   \n",
       "1  ELEGPUS  195013  329.141             1   \n",
       "\n",
       "                                         Description                   Unit  \n",
       "0  Electricity Net Generation, Electric Power Sector  Billion Kilowatthours  \n",
       "1  Electricity Net Generation, Electric Power Sector  Billion Kilowatthours  "
      ]
     },
     "execution_count": 6,
     "metadata": {},
     "output_type": "execute_result"
    }
   ],
   "source": [
    "temporary_name.head(2)"
   ]
  },
  {
   "cell_type": "markdown",
   "id": "424f337e",
   "metadata": {},
   "source": [
    "#### Clean data by dropping final 2 digits from YYYYMM column and renaming column \"year\""
   ]
  },
  {
   "cell_type": "code",
   "execution_count": 11,
   "id": "2e24796d",
   "metadata": {},
   "outputs": [],
   "source": [
    "temporary_name['YYYYMM'] = temporary_name['YYYYMM'].apply(str)"
   ]
  },
  {
   "cell_type": "code",
   "execution_count": 12,
   "id": "471122f1",
   "metadata": {},
   "outputs": [
    {
     "name": "stdout",
     "output_type": "stream",
     "text": [
      "<class 'pandas.core.frame.DataFrame'>\n",
      "RangeIndex: 7216 entries, 0 to 7215\n",
      "Data columns (total 6 columns):\n",
      " #   Column        Non-Null Count  Dtype \n",
      "---  ------        --------------  ----- \n",
      " 0   MSN           7216 non-null   object\n",
      " 1   YYYYMM        7216 non-null   object\n",
      " 2   Value         7216 non-null   object\n",
      " 3   Column_Order  7216 non-null   int64 \n",
      " 4   Description   7216 non-null   object\n",
      " 5   Unit          7216 non-null   object\n",
      "dtypes: int64(1), object(5)\n",
      "memory usage: 338.4+ KB\n"
     ]
    }
   ],
   "source": [
    "temporary_name.info()"
   ]
  },
  {
   "cell_type": "code",
   "execution_count": 19,
   "id": "ea8fb4c2",
   "metadata": {},
   "outputs": [
    {
     "name": "stderr",
     "output_type": "stream",
     "text": [
      "<ipython-input-19-e68ffc2318eb>:1: FutureWarning: The default value of regex will change from True to False in a future version.\n",
      "  temporary_name['YYYYMM'] = temporary_name['YYYYMM'].str.replace('\\d\\d$','')\n"
     ]
    }
   ],
   "source": [
    "temporary_name['YYYYMM'] = temporary_name['YYYYMM'].str.replace('\\d\\d$','')"
   ]
  },
  {
   "cell_type": "code",
   "execution_count": 20,
   "id": "db023204",
   "metadata": {},
   "outputs": [
    {
     "data": {
      "text/html": [
       "<div>\n",
       "<style scoped>\n",
       "    .dataframe tbody tr th:only-of-type {\n",
       "        vertical-align: middle;\n",
       "    }\n",
       "\n",
       "    .dataframe tbody tr th {\n",
       "        vertical-align: top;\n",
       "    }\n",
       "\n",
       "    .dataframe thead th {\n",
       "        text-align: right;\n",
       "    }\n",
       "</style>\n",
       "<table border=\"1\" class=\"dataframe\">\n",
       "  <thead>\n",
       "    <tr style=\"text-align: right;\">\n",
       "      <th></th>\n",
       "      <th>MSN</th>\n",
       "      <th>YYYYMM</th>\n",
       "      <th>Value</th>\n",
       "      <th>Column_Order</th>\n",
       "      <th>Description</th>\n",
       "      <th>Unit</th>\n",
       "    </tr>\n",
       "  </thead>\n",
       "  <tbody>\n",
       "    <tr>\n",
       "      <th>0</th>\n",
       "      <td>ELEGPUS</td>\n",
       "      <td>1949</td>\n",
       "      <td>291.1</td>\n",
       "      <td>1</td>\n",
       "      <td>Electricity Net Generation, Electric Power Sector</td>\n",
       "      <td>Billion Kilowatthours</td>\n",
       "    </tr>\n",
       "    <tr>\n",
       "      <th>1</th>\n",
       "      <td>ELEGPUS</td>\n",
       "      <td>1950</td>\n",
       "      <td>329.141</td>\n",
       "      <td>1</td>\n",
       "      <td>Electricity Net Generation, Electric Power Sector</td>\n",
       "      <td>Billion Kilowatthours</td>\n",
       "    </tr>\n",
       "  </tbody>\n",
       "</table>\n",
       "</div>"
      ],
      "text/plain": [
       "       MSN YYYYMM    Value  Column_Order  \\\n",
       "0  ELEGPUS   1949    291.1             1   \n",
       "1  ELEGPUS   1950  329.141             1   \n",
       "\n",
       "                                         Description                   Unit  \n",
       "0  Electricity Net Generation, Electric Power Sector  Billion Kilowatthours  \n",
       "1  Electricity Net Generation, Electric Power Sector  Billion Kilowatthours  "
      ]
     },
     "execution_count": 20,
     "metadata": {},
     "output_type": "execute_result"
    }
   ],
   "source": [
    "temporary_name.head(2)"
   ]
  },
  {
   "cell_type": "code",
   "execution_count": 22,
   "id": "9ce891cd",
   "metadata": {},
   "outputs": [
    {
     "data": {
      "text/html": [
       "<div>\n",
       "<style scoped>\n",
       "    .dataframe tbody tr th:only-of-type {\n",
       "        vertical-align: middle;\n",
       "    }\n",
       "\n",
       "    .dataframe tbody tr th {\n",
       "        vertical-align: top;\n",
       "    }\n",
       "\n",
       "    .dataframe thead th {\n",
       "        text-align: right;\n",
       "    }\n",
       "</style>\n",
       "<table border=\"1\" class=\"dataframe\">\n",
       "  <thead>\n",
       "    <tr style=\"text-align: right;\">\n",
       "      <th></th>\n",
       "      <th>MSN</th>\n",
       "      <th>year</th>\n",
       "      <th>Value</th>\n",
       "      <th>Column_Order</th>\n",
       "      <th>Description</th>\n",
       "      <th>Unit</th>\n",
       "    </tr>\n",
       "  </thead>\n",
       "  <tbody>\n",
       "    <tr>\n",
       "      <th>0</th>\n",
       "      <td>ELEGPUS</td>\n",
       "      <td>1949</td>\n",
       "      <td>291.1</td>\n",
       "      <td>1</td>\n",
       "      <td>Electricity Net Generation, Electric Power Sector</td>\n",
       "      <td>Billion Kilowatthours</td>\n",
       "    </tr>\n",
       "    <tr>\n",
       "      <th>1</th>\n",
       "      <td>ELEGPUS</td>\n",
       "      <td>1950</td>\n",
       "      <td>329.141</td>\n",
       "      <td>1</td>\n",
       "      <td>Electricity Net Generation, Electric Power Sector</td>\n",
       "      <td>Billion Kilowatthours</td>\n",
       "    </tr>\n",
       "  </tbody>\n",
       "</table>\n",
       "</div>"
      ],
      "text/plain": [
       "       MSN  year    Value  Column_Order  \\\n",
       "0  ELEGPUS  1949    291.1             1   \n",
       "1  ELEGPUS  1950  329.141             1   \n",
       "\n",
       "                                         Description                   Unit  \n",
       "0  Electricity Net Generation, Electric Power Sector  Billion Kilowatthours  \n",
       "1  Electricity Net Generation, Electric Power Sector  Billion Kilowatthours  "
      ]
     },
     "execution_count": 22,
     "metadata": {},
     "output_type": "execute_result"
    }
   ],
   "source": [
    "temporary_name = temporary_name.rename(columns = {'YYYYMM': 'year'})\n",
    "temporary_name.head(2)"
   ]
  },
  {
   "cell_type": "code",
   "execution_count": null,
   "id": "a4a075fb",
   "metadata": {},
   "outputs": [],
   "source": []
  }
 ],
 "metadata": {
  "kernelspec": {
   "display_name": "Python 3",
   "language": "python",
   "name": "python3"
  },
  "language_info": {
   "codemirror_mode": {
    "name": "ipython",
    "version": 3
   },
   "file_extension": ".py",
   "mimetype": "text/x-python",
   "name": "python",
   "nbconvert_exporter": "python",
   "pygments_lexer": "ipython3",
   "version": "3.8.8"
  }
 },
 "nbformat": 4,
 "nbformat_minor": 5
}
