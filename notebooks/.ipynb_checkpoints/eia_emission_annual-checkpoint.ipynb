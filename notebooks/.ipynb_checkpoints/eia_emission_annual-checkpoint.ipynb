{
 "cells": [
  {
   "cell_type": "code",
   "execution_count": 1,
   "id": "65a67a54",
   "metadata": {},
   "outputs": [],
   "source": [
    "import pandas as pd\n",
    "import numpy as np\n",
    "import matplotlib.pyplot as plt\n",
    "import seaborn as sns\n",
    "\n",
    "%matplotlib inline"
   ]
  },
  {
   "cell_type": "code",
   "execution_count": 2,
   "id": "2b00288b",
   "metadata": {},
   "outputs": [],
   "source": [
    "emission_annual = pd.read_csv('../data/Source of Data - eia.gov/emission_annual.csv')"
   ]
  },
  {
   "cell_type": "code",
   "execution_count": 3,
   "id": "425ccbc8",
   "metadata": {},
   "outputs": [],
   "source": [
    "pd.set_option('display.max_columns', None)"
   ]
  },
  {
   "cell_type": "code",
   "execution_count": 4,
   "id": "e3e53818",
   "metadata": {},
   "outputs": [
    {
     "name": "stdout",
     "output_type": "stream",
     "text": [
      "<class 'pandas.core.frame.DataFrame'>\n",
      "RangeIndex: 43258 entries, 0 to 43257\n",
      "Data columns (total 7 columns):\n",
      " #   Column             Non-Null Count  Dtype \n",
      "---  ------             --------------  ----- \n",
      " 0   Year               43258 non-null  int64 \n",
      " 1   State              43258 non-null  object\n",
      " 2   Producer Type      43258 non-null  object\n",
      " 3   Energy Source      43258 non-null  object\n",
      " 4   CO2\n",
      "(Metric Tons)  43258 non-null  object\n",
      " 5   SO2\n",
      "(Metric Tons)  43258 non-null  object\n",
      " 6   NOx\n",
      "(Metric Tons)  43258 non-null  object\n",
      "dtypes: int64(1), object(6)\n",
      "memory usage: 2.3+ MB\n"
     ]
    }
   ],
   "source": [
    "emission_annual.info()"
   ]
  },
  {
   "cell_type": "code",
   "execution_count": 5,
   "id": "11d61449",
   "metadata": {},
   "outputs": [
    {
     "data": {
      "text/html": [
       "<div>\n",
       "<style scoped>\n",
       "    .dataframe tbody tr th:only-of-type {\n",
       "        vertical-align: middle;\n",
       "    }\n",
       "\n",
       "    .dataframe tbody tr th {\n",
       "        vertical-align: top;\n",
       "    }\n",
       "\n",
       "    .dataframe thead th {\n",
       "        text-align: right;\n",
       "    }\n",
       "</style>\n",
       "<table border=\"1\" class=\"dataframe\">\n",
       "  <thead>\n",
       "    <tr style=\"text-align: right;\">\n",
       "      <th></th>\n",
       "      <th>Year</th>\n",
       "      <th>State</th>\n",
       "      <th>Producer Type</th>\n",
       "      <th>Energy Source</th>\n",
       "      <th>CO2\\n(Metric Tons)</th>\n",
       "      <th>SO2\\n(Metric Tons)</th>\n",
       "      <th>NOx\\n(Metric Tons)</th>\n",
       "    </tr>\n",
       "  </thead>\n",
       "  <tbody>\n",
       "    <tr>\n",
       "      <th>0</th>\n",
       "      <td>1990</td>\n",
       "      <td>AK</td>\n",
       "      <td>Commercial Cogen</td>\n",
       "      <td>All Sources</td>\n",
       "      <td>824,004</td>\n",
       "      <td>13,198</td>\n",
       "      <td>3,011</td>\n",
       "    </tr>\n",
       "    <tr>\n",
       "      <th>1</th>\n",
       "      <td>1990</td>\n",
       "      <td>AK</td>\n",
       "      <td>Commercial Cogen</td>\n",
       "      <td>Coal</td>\n",
       "      <td>821,929</td>\n",
       "      <td>13,191</td>\n",
       "      <td>3,009</td>\n",
       "    </tr>\n",
       "  </tbody>\n",
       "</table>\n",
       "</div>"
      ],
      "text/plain": [
       "   Year State     Producer Type Energy Source CO2\\n(Metric Tons)  \\\n",
       "0  1990    AK  Commercial Cogen   All Sources            824,004   \n",
       "1  1990    AK  Commercial Cogen          Coal            821,929   \n",
       "\n",
       "  SO2\\n(Metric Tons) NOx\\n(Metric Tons)  \n",
       "0             13,198              3,011  \n",
       "1             13,191              3,009  "
      ]
     },
     "execution_count": 5,
     "metadata": {},
     "output_type": "execute_result"
    }
   ],
   "source": [
    "emission_annual.head(2)"
   ]
  },
  {
   "cell_type": "markdown",
   "id": "4a13031a",
   "metadata": {},
   "source": [
    "## Need to convert final 3 columns to integer; in order to do so, must remove comma first\n",
    "##### creating new df for each column, then concatenating the new df back into the original; once done, delete the three original columns, then remove comma and change to integer"
   ]
  },
  {
   "cell_type": "code",
   "execution_count": 6,
   "id": "2fec822d",
   "metadata": {},
   "outputs": [],
   "source": [
    "test = emission_annual['CO2\\n(Metric Tons)'].str.replace(',','')"
   ]
  },
  {
   "cell_type": "code",
   "execution_count": 7,
   "id": "2f71e278",
   "metadata": {},
   "outputs": [
    {
     "data": {
      "text/html": [
       "<div>\n",
       "<style scoped>\n",
       "    .dataframe tbody tr th:only-of-type {\n",
       "        vertical-align: middle;\n",
       "    }\n",
       "\n",
       "    .dataframe tbody tr th {\n",
       "        vertical-align: top;\n",
       "    }\n",
       "\n",
       "    .dataframe thead th {\n",
       "        text-align: right;\n",
       "    }\n",
       "</style>\n",
       "<table border=\"1\" class=\"dataframe\">\n",
       "  <thead>\n",
       "    <tr style=\"text-align: right;\">\n",
       "      <th></th>\n",
       "      <th>CO2\\n(Metric Tons)</th>\n",
       "    </tr>\n",
       "  </thead>\n",
       "  <tbody>\n",
       "    <tr>\n",
       "      <th>0</th>\n",
       "      <td>824004</td>\n",
       "    </tr>\n",
       "    <tr>\n",
       "      <th>1</th>\n",
       "      <td>821929</td>\n",
       "    </tr>\n",
       "    <tr>\n",
       "      <th>2</th>\n",
       "      <td>2075</td>\n",
       "    </tr>\n",
       "    <tr>\n",
       "      <th>3</th>\n",
       "      <td>0</td>\n",
       "    </tr>\n",
       "    <tr>\n",
       "      <th>4</th>\n",
       "      <td>0</td>\n",
       "    </tr>\n",
       "    <tr>\n",
       "      <th>...</th>\n",
       "      <td>...</td>\n",
       "    </tr>\n",
       "    <tr>\n",
       "      <th>43253</th>\n",
       "      <td>38255055</td>\n",
       "    </tr>\n",
       "    <tr>\n",
       "      <th>43254</th>\n",
       "      <td>908889</td>\n",
       "    </tr>\n",
       "    <tr>\n",
       "      <th>43255</th>\n",
       "      <td>0</td>\n",
       "    </tr>\n",
       "    <tr>\n",
       "      <th>43256</th>\n",
       "      <td>0</td>\n",
       "    </tr>\n",
       "    <tr>\n",
       "      <th>43257</th>\n",
       "      <td>35196</td>\n",
       "    </tr>\n",
       "  </tbody>\n",
       "</table>\n",
       "<p>43258 rows × 1 columns</p>\n",
       "</div>"
      ],
      "text/plain": [
       "      CO2\\n(Metric Tons)\n",
       "0                 824004\n",
       "1                 821929\n",
       "2                   2075\n",
       "3                      0\n",
       "4                      0\n",
       "...                  ...\n",
       "43253           38255055\n",
       "43254             908889\n",
       "43255                  0\n",
       "43256                  0\n",
       "43257              35196\n",
       "\n",
       "[43258 rows x 1 columns]"
      ]
     },
     "execution_count": 7,
     "metadata": {},
     "output_type": "execute_result"
    }
   ],
   "source": [
    "test = pd.DataFrame(test)\n",
    "test"
   ]
  },
  {
   "cell_type": "code",
   "execution_count": 8,
   "id": "57a056d4",
   "metadata": {},
   "outputs": [],
   "source": [
    "test2 = emission_annual['SO2\\n(Metric Tons)'].str.replace(',','')"
   ]
  },
  {
   "cell_type": "code",
   "execution_count": 9,
   "id": "24c795d6",
   "metadata": {},
   "outputs": [
    {
     "data": {
      "text/html": [
       "<div>\n",
       "<style scoped>\n",
       "    .dataframe tbody tr th:only-of-type {\n",
       "        vertical-align: middle;\n",
       "    }\n",
       "\n",
       "    .dataframe tbody tr th {\n",
       "        vertical-align: top;\n",
       "    }\n",
       "\n",
       "    .dataframe thead th {\n",
       "        text-align: right;\n",
       "    }\n",
       "</style>\n",
       "<table border=\"1\" class=\"dataframe\">\n",
       "  <thead>\n",
       "    <tr style=\"text-align: right;\">\n",
       "      <th></th>\n",
       "      <th>SO2\\n(Metric Tons)</th>\n",
       "    </tr>\n",
       "  </thead>\n",
       "  <tbody>\n",
       "    <tr>\n",
       "      <th>0</th>\n",
       "      <td>13198</td>\n",
       "    </tr>\n",
       "    <tr>\n",
       "      <th>1</th>\n",
       "      <td>13191</td>\n",
       "    </tr>\n",
       "    <tr>\n",
       "      <th>2</th>\n",
       "      <td>6</td>\n",
       "    </tr>\n",
       "    <tr>\n",
       "      <th>3</th>\n",
       "      <td>149</td>\n",
       "    </tr>\n",
       "    <tr>\n",
       "      <th>4</th>\n",
       "      <td>149</td>\n",
       "    </tr>\n",
       "    <tr>\n",
       "      <th>...</th>\n",
       "      <td>...</td>\n",
       "    </tr>\n",
       "    <tr>\n",
       "      <th>43253</th>\n",
       "      <td>26330</td>\n",
       "    </tr>\n",
       "    <tr>\n",
       "      <th>43254</th>\n",
       "      <td>4</td>\n",
       "    </tr>\n",
       "    <tr>\n",
       "      <th>43255</th>\n",
       "      <td>6</td>\n",
       "    </tr>\n",
       "    <tr>\n",
       "      <th>43256</th>\n",
       "      <td>0</td>\n",
       "    </tr>\n",
       "    <tr>\n",
       "      <th>43257</th>\n",
       "      <td>6</td>\n",
       "    </tr>\n",
       "  </tbody>\n",
       "</table>\n",
       "<p>43258 rows × 1 columns</p>\n",
       "</div>"
      ],
      "text/plain": [
       "      SO2\\n(Metric Tons)\n",
       "0                  13198\n",
       "1                  13191\n",
       "2                      6\n",
       "3                    149\n",
       "4                    149\n",
       "...                  ...\n",
       "43253              26330\n",
       "43254                  4\n",
       "43255                  6\n",
       "43256                  0\n",
       "43257                  6\n",
       "\n",
       "[43258 rows x 1 columns]"
      ]
     },
     "execution_count": 9,
     "metadata": {},
     "output_type": "execute_result"
    }
   ],
   "source": [
    "test2 = pd.DataFrame(test2)\n",
    "test2"
   ]
  },
  {
   "cell_type": "code",
   "execution_count": 10,
   "id": "c03c7cb6",
   "metadata": {},
   "outputs": [],
   "source": [
    "test3 = emission_annual['NOx\\n(Metric Tons)'].str.replace(',','')"
   ]
  },
  {
   "cell_type": "code",
   "execution_count": 11,
   "id": "4546c308",
   "metadata": {},
   "outputs": [
    {
     "data": {
      "text/html": [
       "<div>\n",
       "<style scoped>\n",
       "    .dataframe tbody tr th:only-of-type {\n",
       "        vertical-align: middle;\n",
       "    }\n",
       "\n",
       "    .dataframe tbody tr th {\n",
       "        vertical-align: top;\n",
       "    }\n",
       "\n",
       "    .dataframe thead th {\n",
       "        text-align: right;\n",
       "    }\n",
       "</style>\n",
       "<table border=\"1\" class=\"dataframe\">\n",
       "  <thead>\n",
       "    <tr style=\"text-align: right;\">\n",
       "      <th></th>\n",
       "      <th>NOx\\n(Metric Tons)</th>\n",
       "    </tr>\n",
       "  </thead>\n",
       "  <tbody>\n",
       "    <tr>\n",
       "      <th>0</th>\n",
       "      <td>3011</td>\n",
       "    </tr>\n",
       "    <tr>\n",
       "      <th>1</th>\n",
       "      <td>3009</td>\n",
       "    </tr>\n",
       "    <tr>\n",
       "      <th>2</th>\n",
       "      <td>2</td>\n",
       "    </tr>\n",
       "    <tr>\n",
       "      <th>3</th>\n",
       "      <td>42</td>\n",
       "    </tr>\n",
       "    <tr>\n",
       "      <th>4</th>\n",
       "      <td>42</td>\n",
       "    </tr>\n",
       "    <tr>\n",
       "      <th>...</th>\n",
       "      <td>...</td>\n",
       "    </tr>\n",
       "    <tr>\n",
       "      <th>43253</th>\n",
       "      <td>27706</td>\n",
       "    </tr>\n",
       "    <tr>\n",
       "      <th>43254</th>\n",
       "      <td>1875</td>\n",
       "    </tr>\n",
       "    <tr>\n",
       "      <th>43255</th>\n",
       "      <td>2539</td>\n",
       "    </tr>\n",
       "    <tr>\n",
       "      <th>43256</th>\n",
       "      <td>42</td>\n",
       "    </tr>\n",
       "    <tr>\n",
       "      <th>43257</th>\n",
       "      <td>21</td>\n",
       "    </tr>\n",
       "  </tbody>\n",
       "</table>\n",
       "<p>43258 rows × 1 columns</p>\n",
       "</div>"
      ],
      "text/plain": [
       "      NOx\\n(Metric Tons)\n",
       "0                   3011\n",
       "1                   3009\n",
       "2                      2\n",
       "3                     42\n",
       "4                     42\n",
       "...                  ...\n",
       "43253              27706\n",
       "43254               1875\n",
       "43255               2539\n",
       "43256                 42\n",
       "43257                 21\n",
       "\n",
       "[43258 rows x 1 columns]"
      ]
     },
     "execution_count": 11,
     "metadata": {},
     "output_type": "execute_result"
    }
   ],
   "source": [
    "test3 = pd.DataFrame(test3)\n",
    "test3"
   ]
  },
  {
   "cell_type": "code",
   "execution_count": 12,
   "id": "732d4c24",
   "metadata": {},
   "outputs": [],
   "source": [
    "cols = [4,5,6]\n",
    "emission_annual.drop(emission_annual.columns[cols], axis=1, inplace=True)"
   ]
  },
  {
   "cell_type": "code",
   "execution_count": 13,
   "id": "6710fcdf",
   "metadata": {},
   "outputs": [
    {
     "data": {
      "text/html": [
       "<div>\n",
       "<style scoped>\n",
       "    .dataframe tbody tr th:only-of-type {\n",
       "        vertical-align: middle;\n",
       "    }\n",
       "\n",
       "    .dataframe tbody tr th {\n",
       "        vertical-align: top;\n",
       "    }\n",
       "\n",
       "    .dataframe thead th {\n",
       "        text-align: right;\n",
       "    }\n",
       "</style>\n",
       "<table border=\"1\" class=\"dataframe\">\n",
       "  <thead>\n",
       "    <tr style=\"text-align: right;\">\n",
       "      <th></th>\n",
       "      <th>Year</th>\n",
       "      <th>State</th>\n",
       "      <th>Producer Type</th>\n",
       "      <th>Energy Source</th>\n",
       "    </tr>\n",
       "  </thead>\n",
       "  <tbody>\n",
       "    <tr>\n",
       "      <th>0</th>\n",
       "      <td>1990</td>\n",
       "      <td>AK</td>\n",
       "      <td>Commercial Cogen</td>\n",
       "      <td>All Sources</td>\n",
       "    </tr>\n",
       "    <tr>\n",
       "      <th>1</th>\n",
       "      <td>1990</td>\n",
       "      <td>AK</td>\n",
       "      <td>Commercial Cogen</td>\n",
       "      <td>Coal</td>\n",
       "    </tr>\n",
       "  </tbody>\n",
       "</table>\n",
       "</div>"
      ],
      "text/plain": [
       "   Year State     Producer Type Energy Source\n",
       "0  1990    AK  Commercial Cogen   All Sources\n",
       "1  1990    AK  Commercial Cogen          Coal"
      ]
     },
     "execution_count": 13,
     "metadata": {},
     "output_type": "execute_result"
    }
   ],
   "source": [
    "emission_annual.head(2)"
   ]
  },
  {
   "cell_type": "code",
   "execution_count": 14,
   "id": "0920a1f3",
   "metadata": {},
   "outputs": [],
   "source": [
    "emission_annual = pd.concat([emission_annual,test],axis = 1)"
   ]
  },
  {
   "cell_type": "code",
   "execution_count": 15,
   "id": "e05cb6f3",
   "metadata": {},
   "outputs": [
    {
     "name": "stdout",
     "output_type": "stream",
     "text": [
      "<class 'pandas.core.frame.DataFrame'>\n",
      "RangeIndex: 43258 entries, 0 to 43257\n",
      "Data columns (total 5 columns):\n",
      " #   Column             Non-Null Count  Dtype \n",
      "---  ------             --------------  ----- \n",
      " 0   Year               43258 non-null  int64 \n",
      " 1   State              43258 non-null  object\n",
      " 2   Producer Type      43258 non-null  object\n",
      " 3   Energy Source      43258 non-null  object\n",
      " 4   CO2\n",
      "(Metric Tons)  43258 non-null  object\n",
      "dtypes: int64(1), object(4)\n",
      "memory usage: 1.7+ MB\n"
     ]
    }
   ],
   "source": [
    "emission_annual.info()"
   ]
  },
  {
   "cell_type": "code",
   "execution_count": 16,
   "id": "93daccd7",
   "metadata": {},
   "outputs": [],
   "source": [
    "emission_annual = pd.concat([emission_annual,test2],axis = 1)"
   ]
  },
  {
   "cell_type": "code",
   "execution_count": 17,
   "id": "51106787",
   "metadata": {},
   "outputs": [
    {
     "name": "stdout",
     "output_type": "stream",
     "text": [
      "<class 'pandas.core.frame.DataFrame'>\n",
      "RangeIndex: 43258 entries, 0 to 43257\n",
      "Data columns (total 6 columns):\n",
      " #   Column             Non-Null Count  Dtype \n",
      "---  ------             --------------  ----- \n",
      " 0   Year               43258 non-null  int64 \n",
      " 1   State              43258 non-null  object\n",
      " 2   Producer Type      43258 non-null  object\n",
      " 3   Energy Source      43258 non-null  object\n",
      " 4   CO2\n",
      "(Metric Tons)  43258 non-null  object\n",
      " 5   SO2\n",
      "(Metric Tons)  43258 non-null  object\n",
      "dtypes: int64(1), object(5)\n",
      "memory usage: 2.0+ MB\n"
     ]
    }
   ],
   "source": [
    "emission_annual.info()"
   ]
  },
  {
   "cell_type": "code",
   "execution_count": 18,
   "id": "bded8370",
   "metadata": {},
   "outputs": [],
   "source": [
    "emission_annual = pd.concat([emission_annual,test3],axis = 1)"
   ]
  },
  {
   "cell_type": "code",
   "execution_count": 19,
   "id": "30d73be6",
   "metadata": {},
   "outputs": [
    {
     "name": "stdout",
     "output_type": "stream",
     "text": [
      "<class 'pandas.core.frame.DataFrame'>\n",
      "RangeIndex: 43258 entries, 0 to 43257\n",
      "Data columns (total 7 columns):\n",
      " #   Column             Non-Null Count  Dtype \n",
      "---  ------             --------------  ----- \n",
      " 0   Year               43258 non-null  int64 \n",
      " 1   State              43258 non-null  object\n",
      " 2   Producer Type      43258 non-null  object\n",
      " 3   Energy Source      43258 non-null  object\n",
      " 4   CO2\n",
      "(Metric Tons)  43258 non-null  object\n",
      " 5   SO2\n",
      "(Metric Tons)  43258 non-null  object\n",
      " 6   NOx\n",
      "(Metric Tons)  43258 non-null  object\n",
      "dtypes: int64(1), object(6)\n",
      "memory usage: 2.3+ MB\n"
     ]
    }
   ],
   "source": [
    "emission_annual.info()"
   ]
  },
  {
   "cell_type": "code",
   "execution_count": 20,
   "id": "04ee11f4",
   "metadata": {},
   "outputs": [
    {
     "data": {
      "text/html": [
       "<div>\n",
       "<style scoped>\n",
       "    .dataframe tbody tr th:only-of-type {\n",
       "        vertical-align: middle;\n",
       "    }\n",
       "\n",
       "    .dataframe tbody tr th {\n",
       "        vertical-align: top;\n",
       "    }\n",
       "\n",
       "    .dataframe thead th {\n",
       "        text-align: right;\n",
       "    }\n",
       "</style>\n",
       "<table border=\"1\" class=\"dataframe\">\n",
       "  <thead>\n",
       "    <tr style=\"text-align: right;\">\n",
       "      <th></th>\n",
       "      <th>Year</th>\n",
       "      <th>State</th>\n",
       "      <th>Producer Type</th>\n",
       "      <th>Energy Source</th>\n",
       "      <th>CO2\\n(Metric Tons)</th>\n",
       "      <th>SO2\\n(Metric Tons)</th>\n",
       "      <th>NOx\\n(Metric Tons)</th>\n",
       "    </tr>\n",
       "  </thead>\n",
       "  <tbody>\n",
       "    <tr>\n",
       "      <th>0</th>\n",
       "      <td>1990</td>\n",
       "      <td>AK</td>\n",
       "      <td>Commercial Cogen</td>\n",
       "      <td>All Sources</td>\n",
       "      <td>824004</td>\n",
       "      <td>13198</td>\n",
       "      <td>3011</td>\n",
       "    </tr>\n",
       "    <tr>\n",
       "      <th>1</th>\n",
       "      <td>1990</td>\n",
       "      <td>AK</td>\n",
       "      <td>Commercial Cogen</td>\n",
       "      <td>Coal</td>\n",
       "      <td>821929</td>\n",
       "      <td>13191</td>\n",
       "      <td>3009</td>\n",
       "    </tr>\n",
       "  </tbody>\n",
       "</table>\n",
       "</div>"
      ],
      "text/plain": [
       "   Year State     Producer Type Energy Source CO2\\n(Metric Tons)  \\\n",
       "0  1990    AK  Commercial Cogen   All Sources             824004   \n",
       "1  1990    AK  Commercial Cogen          Coal             821929   \n",
       "\n",
       "  SO2\\n(Metric Tons) NOx\\n(Metric Tons)  \n",
       "0              13198               3011  \n",
       "1              13191               3009  "
      ]
     },
     "execution_count": 20,
     "metadata": {},
     "output_type": "execute_result"
    }
   ],
   "source": [
    "emission_annual.head(2)"
   ]
  },
  {
   "cell_type": "code",
   "execution_count": 21,
   "id": "ac626f0b",
   "metadata": {},
   "outputs": [],
   "source": [
    "emission_annual['CO2\\n(Metric Tons)'] = emission_annual['CO2\\n(Metric Tons)'].astype(object).astype(float)"
   ]
  },
  {
   "cell_type": "code",
   "execution_count": 22,
   "id": "cf333898",
   "metadata": {},
   "outputs": [
    {
     "name": "stdout",
     "output_type": "stream",
     "text": [
      "<class 'pandas.core.frame.DataFrame'>\n",
      "RangeIndex: 43258 entries, 0 to 43257\n",
      "Data columns (total 7 columns):\n",
      " #   Column             Non-Null Count  Dtype  \n",
      "---  ------             --------------  -----  \n",
      " 0   Year               43258 non-null  int64  \n",
      " 1   State              43258 non-null  object \n",
      " 2   Producer Type      43258 non-null  object \n",
      " 3   Energy Source      43258 non-null  object \n",
      " 4   CO2\n",
      "(Metric Tons)  43258 non-null  float64\n",
      " 5   SO2\n",
      "(Metric Tons)  43258 non-null  object \n",
      " 6   NOx\n",
      "(Metric Tons)  43258 non-null  object \n",
      "dtypes: float64(1), int64(1), object(5)\n",
      "memory usage: 2.3+ MB\n"
     ]
    }
   ],
   "source": [
    "emission_annual.info()"
   ]
  },
  {
   "cell_type": "code",
   "execution_count": 23,
   "id": "d8b6e631",
   "metadata": {},
   "outputs": [],
   "source": [
    "emission_annual['CO2\\n(Metric Tons)'] = emission_annual['CO2\\n(Metric Tons)'].astype(object).astype(float)"
   ]
  },
  {
   "cell_type": "code",
   "execution_count": 24,
   "id": "b81ea3f6",
   "metadata": {},
   "outputs": [],
   "source": [
    "emission_annual['CO2\\n(Metric Tons)'] = emission_annual['CO2\\n(Metric Tons)'].astype(object).astype(float)"
   ]
  },
  {
   "cell_type": "code",
   "execution_count": 25,
   "id": "a471ec47",
   "metadata": {},
   "outputs": [
    {
     "data": {
      "text/html": [
       "<div>\n",
       "<style scoped>\n",
       "    .dataframe tbody tr th:only-of-type {\n",
       "        vertical-align: middle;\n",
       "    }\n",
       "\n",
       "    .dataframe tbody tr th {\n",
       "        vertical-align: top;\n",
       "    }\n",
       "\n",
       "    .dataframe thead th {\n",
       "        text-align: right;\n",
       "    }\n",
       "</style>\n",
       "<table border=\"1\" class=\"dataframe\">\n",
       "  <thead>\n",
       "    <tr style=\"text-align: right;\">\n",
       "      <th></th>\n",
       "      <th>Year</th>\n",
       "      <th>State</th>\n",
       "      <th>Producer Type</th>\n",
       "      <th>Energy Source</th>\n",
       "      <th>CO2\\n(Metric Tons)</th>\n",
       "      <th>SO2\\n(Metric Tons)</th>\n",
       "      <th>NOx\\n(Metric Tons)</th>\n",
       "    </tr>\n",
       "  </thead>\n",
       "  <tbody>\n",
       "    <tr>\n",
       "      <th>0</th>\n",
       "      <td>1990</td>\n",
       "      <td>AK</td>\n",
       "      <td>Commercial Cogen</td>\n",
       "      <td>All Sources</td>\n",
       "      <td>824004.0</td>\n",
       "      <td>13198</td>\n",
       "      <td>3011</td>\n",
       "    </tr>\n",
       "    <tr>\n",
       "      <th>1</th>\n",
       "      <td>1990</td>\n",
       "      <td>AK</td>\n",
       "      <td>Commercial Cogen</td>\n",
       "      <td>Coal</td>\n",
       "      <td>821929.0</td>\n",
       "      <td>13191</td>\n",
       "      <td>3009</td>\n",
       "    </tr>\n",
       "  </tbody>\n",
       "</table>\n",
       "</div>"
      ],
      "text/plain": [
       "   Year State     Producer Type Energy Source  CO2\\n(Metric Tons)  \\\n",
       "0  1990    AK  Commercial Cogen   All Sources            824004.0   \n",
       "1  1990    AK  Commercial Cogen          Coal            821929.0   \n",
       "\n",
       "  SO2\\n(Metric Tons) NOx\\n(Metric Tons)  \n",
       "0              13198               3011  \n",
       "1              13191               3009  "
      ]
     },
     "execution_count": 25,
     "metadata": {},
     "output_type": "execute_result"
    }
   ],
   "source": [
    "emission_annual.head(2)"
   ]
  },
  {
   "cell_type": "code",
   "execution_count": 27,
   "id": "095a84b3",
   "metadata": {},
   "outputs": [
    {
     "data": {
      "text/html": [
       "<div>\n",
       "<style scoped>\n",
       "    .dataframe tbody tr th:only-of-type {\n",
       "        vertical-align: middle;\n",
       "    }\n",
       "\n",
       "    .dataframe tbody tr th {\n",
       "        vertical-align: top;\n",
       "    }\n",
       "\n",
       "    .dataframe thead th {\n",
       "        text-align: right;\n",
       "    }\n",
       "</style>\n",
       "<table border=\"1\" class=\"dataframe\">\n",
       "  <thead>\n",
       "    <tr style=\"text-align: right;\">\n",
       "      <th></th>\n",
       "      <th>Year</th>\n",
       "      <th>State</th>\n",
       "      <th>Producer Type</th>\n",
       "      <th>Energy Source</th>\n",
       "      <th>CO2\\n(Metric Tons)</th>\n",
       "      <th>SO2\\n(Metric Tons)</th>\n",
       "      <th>NOx\\n(Metric Tons)</th>\n",
       "    </tr>\n",
       "  </thead>\n",
       "  <tbody>\n",
       "    <tr>\n",
       "      <th>43253</th>\n",
       "      <td>2019</td>\n",
       "      <td>WY</td>\n",
       "      <td>Total Electric Power Industry</td>\n",
       "      <td>Coal</td>\n",
       "      <td>38255055.0</td>\n",
       "      <td>26330</td>\n",
       "      <td>27706</td>\n",
       "    </tr>\n",
       "    <tr>\n",
       "      <th>43254</th>\n",
       "      <td>2019</td>\n",
       "      <td>WY</td>\n",
       "      <td>Total Electric Power Industry</td>\n",
       "      <td>Natural Gas</td>\n",
       "      <td>908889.0</td>\n",
       "      <td>4</td>\n",
       "      <td>1875</td>\n",
       "    </tr>\n",
       "    <tr>\n",
       "      <th>43255</th>\n",
       "      <td>2019</td>\n",
       "      <td>WY</td>\n",
       "      <td>Total Electric Power Industry</td>\n",
       "      <td>Other Gases</td>\n",
       "      <td>0.0</td>\n",
       "      <td>6</td>\n",
       "      <td>2539</td>\n",
       "    </tr>\n",
       "    <tr>\n",
       "      <th>43256</th>\n",
       "      <td>2019</td>\n",
       "      <td>WY</td>\n",
       "      <td>Total Electric Power Industry</td>\n",
       "      <td>Other</td>\n",
       "      <td>0.0</td>\n",
       "      <td>0</td>\n",
       "      <td>42</td>\n",
       "    </tr>\n",
       "    <tr>\n",
       "      <th>43257</th>\n",
       "      <td>2019</td>\n",
       "      <td>WY</td>\n",
       "      <td>Total Electric Power Industry</td>\n",
       "      <td>Petroleum</td>\n",
       "      <td>35196.0</td>\n",
       "      <td>6</td>\n",
       "      <td>21</td>\n",
       "    </tr>\n",
       "  </tbody>\n",
       "</table>\n",
       "</div>"
      ],
      "text/plain": [
       "       Year State                  Producer Type Energy Source  \\\n",
       "43253  2019    WY  Total Electric Power Industry          Coal   \n",
       "43254  2019    WY  Total Electric Power Industry   Natural Gas   \n",
       "43255  2019    WY  Total Electric Power Industry   Other Gases   \n",
       "43256  2019    WY  Total Electric Power Industry         Other   \n",
       "43257  2019    WY  Total Electric Power Industry     Petroleum   \n",
       "\n",
       "       CO2\\n(Metric Tons) SO2\\n(Metric Tons) NOx\\n(Metric Tons)  \n",
       "43253          38255055.0              26330              27706  \n",
       "43254            908889.0                  4               1875  \n",
       "43255                 0.0                  6               2539  \n",
       "43256                 0.0                  0                 42  \n",
       "43257             35196.0                  6                 21  "
      ]
     },
     "execution_count": 27,
     "metadata": {},
     "output_type": "execute_result"
    }
   ],
   "source": [
    "emission_annual.tail()"
   ]
  },
  {
   "cell_type": "code",
   "execution_count": 28,
   "id": "2e7ee9bd",
   "metadata": {},
   "outputs": [],
   "source": [
    "emission_annual.to_csv(r'../data/Source of Data - eia.gov/from_python_csv/emission_annual.csv', index = False)"
   ]
  },
  {
   "cell_type": "code",
   "execution_count": null,
   "id": "09b55a69",
   "metadata": {},
   "outputs": [],
   "source": []
  },
  {
   "cell_type": "code",
   "execution_count": null,
   "id": "4e0f2d05",
   "metadata": {},
   "outputs": [],
   "source": []
  },
  {
   "cell_type": "code",
   "execution_count": null,
   "id": "e71b3138",
   "metadata": {},
   "outputs": [],
   "source": []
  }
 ],
 "metadata": {
  "kernelspec": {
   "display_name": "Python 3",
   "language": "python",
   "name": "python3"
  },
  "language_info": {
   "codemirror_mode": {
    "name": "ipython",
    "version": 3
   },
   "file_extension": ".py",
   "mimetype": "text/x-python",
   "name": "python",
   "nbconvert_exporter": "python",
   "pygments_lexer": "ipython3",
   "version": "3.8.8"
  }
 },
 "nbformat": 4,
 "nbformat_minor": 5
}
