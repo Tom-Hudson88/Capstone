{
 "cells": [
  {
   "cell_type": "code",
   "execution_count": 1,
   "id": "7cba2d63",
   "metadata": {},
   "outputs": [],
   "source": [
    "import pandas as pd\n",
    "import numpy as np\n",
    "import matplotlib.pyplot as plt\n",
    "import seaborn as sns\n",
    "\n",
    "%matplotlib inline"
   ]
  },
  {
   "cell_type": "code",
   "execution_count": 2,
   "id": "2a3ef28e",
   "metadata": {},
   "outputs": [],
   "source": [
    "eia_annual_consumption = pd.read_csv('../data/Source of Data - eia.gov/annual_consumption_state.csv',skiprows=1)"
   ]
  },
  {
   "cell_type": "code",
   "execution_count": 3,
   "id": "84a4bd07",
   "metadata": {},
   "outputs": [],
   "source": [
    "pd.set_option('display.max_columns', None)"
   ]
  },
  {
   "cell_type": "code",
   "execution_count": 4,
   "id": "ab0fad7c",
   "metadata": {},
   "outputs": [
    {
     "name": "stdout",
     "output_type": "stream",
     "text": [
      "<class 'pandas.core.frame.DataFrame'>\n",
      "RangeIndex: 23278 entries, 0 to 23277\n",
      "Data columns (total 11 columns):\n",
      " #   Column                              Non-Null Count  Dtype  \n",
      "---  ------                              --------------  -----  \n",
      " 0   YEAR                                23278 non-null  int64  \n",
      " 1   STATE                               23278 non-null  object \n",
      " 2   TYPE OF PRODUCER                    23278 non-null  object \n",
      " 3   ENERGY SOURCE              (UNITS)  23278 non-null  object \n",
      " 4   CONSUMPTION for ELECTRICITY         23278 non-null  object \n",
      " 5   Unnamed: 5                          0 non-null      float64\n",
      " 6   Unnamed: 6                          0 non-null      float64\n",
      " 7   Unnamed: 7                          0 non-null      float64\n",
      " 8   Unnamed: 8                          0 non-null      float64\n",
      " 9   Unnamed: 9                          0 non-null      float64\n",
      " 10  Unnamed: 10                         0 non-null      float64\n",
      "dtypes: float64(6), int64(1), object(4)\n",
      "memory usage: 2.0+ MB\n"
     ]
    }
   ],
   "source": [
    "eia_annual_consumption.info()"
   ]
  },
  {
   "cell_type": "code",
   "execution_count": 5,
   "id": "202ca281",
   "metadata": {},
   "outputs": [
    {
     "data": {
      "text/html": [
       "<div>\n",
       "<style scoped>\n",
       "    .dataframe tbody tr th:only-of-type {\n",
       "        vertical-align: middle;\n",
       "    }\n",
       "\n",
       "    .dataframe tbody tr th {\n",
       "        vertical-align: top;\n",
       "    }\n",
       "\n",
       "    .dataframe thead th {\n",
       "        text-align: right;\n",
       "    }\n",
       "</style>\n",
       "<table border=\"1\" class=\"dataframe\">\n",
       "  <thead>\n",
       "    <tr style=\"text-align: right;\">\n",
       "      <th></th>\n",
       "      <th>YEAR</th>\n",
       "      <th>STATE</th>\n",
       "      <th>TYPE OF PRODUCER</th>\n",
       "      <th>ENERGY SOURCE              (UNITS)</th>\n",
       "      <th>CONSUMPTION for ELECTRICITY</th>\n",
       "      <th>Unnamed: 5</th>\n",
       "      <th>Unnamed: 6</th>\n",
       "      <th>Unnamed: 7</th>\n",
       "      <th>Unnamed: 8</th>\n",
       "      <th>Unnamed: 9</th>\n",
       "      <th>Unnamed: 10</th>\n",
       "    </tr>\n",
       "  </thead>\n",
       "  <tbody>\n",
       "    <tr>\n",
       "      <th>0</th>\n",
       "      <td>1990</td>\n",
       "      <td>AK</td>\n",
       "      <td>Total Electric Power Industry</td>\n",
       "      <td>Coal (Short Tons)</td>\n",
       "      <td>404,871</td>\n",
       "      <td>NaN</td>\n",
       "      <td>NaN</td>\n",
       "      <td>NaN</td>\n",
       "      <td>NaN</td>\n",
       "      <td>NaN</td>\n",
       "      <td>NaN</td>\n",
       "    </tr>\n",
       "    <tr>\n",
       "      <th>1</th>\n",
       "      <td>1990</td>\n",
       "      <td>AK</td>\n",
       "      <td>Total Electric Power Industry</td>\n",
       "      <td>Petroleum (Barrels)</td>\n",
       "      <td>961,837</td>\n",
       "      <td>NaN</td>\n",
       "      <td>NaN</td>\n",
       "      <td>NaN</td>\n",
       "      <td>NaN</td>\n",
       "      <td>NaN</td>\n",
       "      <td>NaN</td>\n",
       "    </tr>\n",
       "  </tbody>\n",
       "</table>\n",
       "</div>"
      ],
      "text/plain": [
       "   YEAR STATE               TYPE OF PRODUCER  \\\n",
       "0  1990    AK  Total Electric Power Industry   \n",
       "1  1990    AK  Total Electric Power Industry   \n",
       "\n",
       "  ENERGY SOURCE              (UNITS) CONSUMPTION for ELECTRICITY  Unnamed: 5  \\\n",
       "0                  Coal (Short Tons)                     404,871         NaN   \n",
       "1                Petroleum (Barrels)                     961,837         NaN   \n",
       "\n",
       "   Unnamed: 6  Unnamed: 7  Unnamed: 8  Unnamed: 9  Unnamed: 10  \n",
       "0         NaN         NaN         NaN         NaN          NaN  \n",
       "1         NaN         NaN         NaN         NaN          NaN  "
      ]
     },
     "execution_count": 5,
     "metadata": {},
     "output_type": "execute_result"
    }
   ],
   "source": [
    "eia_annual_consumption.head(2)"
   ]
  },
  {
   "cell_type": "code",
   "execution_count": 6,
   "id": "4fd01cad",
   "metadata": {},
   "outputs": [],
   "source": [
    "eia_annual_consumption.drop(eia_annual_consumption.columns[[5,6,7,8,9,10]], axis=1, inplace=True)"
   ]
  },
  {
   "cell_type": "code",
   "execution_count": 7,
   "id": "063c283d",
   "metadata": {},
   "outputs": [
    {
     "data": {
      "text/html": [
       "<div>\n",
       "<style scoped>\n",
       "    .dataframe tbody tr th:only-of-type {\n",
       "        vertical-align: middle;\n",
       "    }\n",
       "\n",
       "    .dataframe tbody tr th {\n",
       "        vertical-align: top;\n",
       "    }\n",
       "\n",
       "    .dataframe thead th {\n",
       "        text-align: right;\n",
       "    }\n",
       "</style>\n",
       "<table border=\"1\" class=\"dataframe\">\n",
       "  <thead>\n",
       "    <tr style=\"text-align: right;\">\n",
       "      <th></th>\n",
       "      <th>YEAR</th>\n",
       "      <th>STATE</th>\n",
       "      <th>TYPE OF PRODUCER</th>\n",
       "      <th>ENERGY SOURCE              (UNITS)</th>\n",
       "      <th>CONSUMPTION for ELECTRICITY</th>\n",
       "    </tr>\n",
       "  </thead>\n",
       "  <tbody>\n",
       "    <tr>\n",
       "      <th>0</th>\n",
       "      <td>1990</td>\n",
       "      <td>AK</td>\n",
       "      <td>Total Electric Power Industry</td>\n",
       "      <td>Coal (Short Tons)</td>\n",
       "      <td>404,871</td>\n",
       "    </tr>\n",
       "    <tr>\n",
       "      <th>1</th>\n",
       "      <td>1990</td>\n",
       "      <td>AK</td>\n",
       "      <td>Total Electric Power Industry</td>\n",
       "      <td>Petroleum (Barrels)</td>\n",
       "      <td>961,837</td>\n",
       "    </tr>\n",
       "  </tbody>\n",
       "</table>\n",
       "</div>"
      ],
      "text/plain": [
       "   YEAR STATE               TYPE OF PRODUCER  \\\n",
       "0  1990    AK  Total Electric Power Industry   \n",
       "1  1990    AK  Total Electric Power Industry   \n",
       "\n",
       "  ENERGY SOURCE              (UNITS) CONSUMPTION for ELECTRICITY  \n",
       "0                  Coal (Short Tons)                     404,871  \n",
       "1                Petroleum (Barrels)                     961,837  "
      ]
     },
     "execution_count": 7,
     "metadata": {},
     "output_type": "execute_result"
    }
   ],
   "source": [
    "eia_annual_consumption.head(2)"
   ]
  },
  {
   "cell_type": "code",
   "execution_count": 8,
   "id": "d8d07619",
   "metadata": {},
   "outputs": [
    {
     "data": {
      "text/html": [
       "<div>\n",
       "<style scoped>\n",
       "    .dataframe tbody tr th:only-of-type {\n",
       "        vertical-align: middle;\n",
       "    }\n",
       "\n",
       "    .dataframe tbody tr th {\n",
       "        vertical-align: top;\n",
       "    }\n",
       "\n",
       "    .dataframe thead th {\n",
       "        text-align: right;\n",
       "    }\n",
       "</style>\n",
       "<table border=\"1\" class=\"dataframe\">\n",
       "  <thead>\n",
       "    <tr style=\"text-align: right;\">\n",
       "      <th></th>\n",
       "      <th>YEAR</th>\n",
       "      <th>STATE</th>\n",
       "      <th>TYPE OF PRODUCER</th>\n",
       "      <th>ENERGY SOURCE              (UNITS)</th>\n",
       "      <th>CONSUMPTION for ELECTRICITY</th>\n",
       "    </tr>\n",
       "  </thead>\n",
       "  <tbody>\n",
       "    <tr>\n",
       "      <th>23273</th>\n",
       "      <td>2020</td>\n",
       "      <td>WY</td>\n",
       "      <td>Electric Generators, Independent Power Producers</td>\n",
       "      <td>Coal (Short Tons)</td>\n",
       "      <td>527,062</td>\n",
       "    </tr>\n",
       "    <tr>\n",
       "      <th>23274</th>\n",
       "      <td>2020</td>\n",
       "      <td>WY</td>\n",
       "      <td>Electric Generators, Independent Power Producers</td>\n",
       "      <td>Natural Gas (Mcf)</td>\n",
       "      <td>16,492</td>\n",
       "    </tr>\n",
       "    <tr>\n",
       "      <th>23275</th>\n",
       "      <td>2020</td>\n",
       "      <td>WY</td>\n",
       "      <td>Electric Generators, Electric Utilities</td>\n",
       "      <td>Coal (Short Tons)</td>\n",
       "      <td>20,339,363</td>\n",
       "    </tr>\n",
       "    <tr>\n",
       "      <th>23276</th>\n",
       "      <td>2020</td>\n",
       "      <td>WY</td>\n",
       "      <td>Electric Generators, Electric Utilities</td>\n",
       "      <td>Natural Gas (Mcf)</td>\n",
       "      <td>5,710,278</td>\n",
       "    </tr>\n",
       "    <tr>\n",
       "      <th>23277</th>\n",
       "      <td>2020</td>\n",
       "      <td>WY</td>\n",
       "      <td>Electric Generators, Electric Utilities</td>\n",
       "      <td>Petroleum (Barrels)</td>\n",
       "      <td>83,736</td>\n",
       "    </tr>\n",
       "  </tbody>\n",
       "</table>\n",
       "</div>"
      ],
      "text/plain": [
       "       YEAR STATE                                  TYPE OF PRODUCER  \\\n",
       "23273  2020    WY  Electric Generators, Independent Power Producers   \n",
       "23274  2020    WY  Electric Generators, Independent Power Producers   \n",
       "23275  2020    WY           Electric Generators, Electric Utilities   \n",
       "23276  2020    WY           Electric Generators, Electric Utilities   \n",
       "23277  2020    WY           Electric Generators, Electric Utilities   \n",
       "\n",
       "      ENERGY SOURCE              (UNITS) CONSUMPTION for ELECTRICITY  \n",
       "23273                  Coal (Short Tons)                     527,062  \n",
       "23274                  Natural Gas (Mcf)                      16,492  \n",
       "23275                  Coal (Short Tons)                  20,339,363  \n",
       "23276                  Natural Gas (Mcf)                   5,710,278  \n",
       "23277                Petroleum (Barrels)                      83,736  "
      ]
     },
     "execution_count": 8,
     "metadata": {},
     "output_type": "execute_result"
    }
   ],
   "source": [
    "eia_annual_consumption.tail()"
   ]
  },
  {
   "cell_type": "code",
   "execution_count": 9,
   "id": "50332523",
   "metadata": {},
   "outputs": [
    {
     "name": "stdout",
     "output_type": "stream",
     "text": [
      "<class 'pandas.core.frame.DataFrame'>\n",
      "RangeIndex: 23278 entries, 0 to 23277\n",
      "Data columns (total 5 columns):\n",
      " #   Column                              Non-Null Count  Dtype \n",
      "---  ------                              --------------  ----- \n",
      " 0   YEAR                                23278 non-null  int64 \n",
      " 1   STATE                               23278 non-null  object\n",
      " 2   TYPE OF PRODUCER                    23278 non-null  object\n",
      " 3   ENERGY SOURCE              (UNITS)  23278 non-null  object\n",
      " 4   CONSUMPTION for ELECTRICITY         23278 non-null  object\n",
      "dtypes: int64(1), object(4)\n",
      "memory usage: 909.4+ KB\n"
     ]
    }
   ],
   "source": [
    "eia_annual_consumption.info()"
   ]
  },
  {
   "cell_type": "code",
   "execution_count": 10,
   "id": "755d34a1",
   "metadata": {},
   "outputs": [
    {
     "data": {
      "text/html": [
       "<div>\n",
       "<style scoped>\n",
       "    .dataframe tbody tr th:only-of-type {\n",
       "        vertical-align: middle;\n",
       "    }\n",
       "\n",
       "    .dataframe tbody tr th {\n",
       "        vertical-align: top;\n",
       "    }\n",
       "\n",
       "    .dataframe thead th {\n",
       "        text-align: right;\n",
       "    }\n",
       "</style>\n",
       "<table border=\"1\" class=\"dataframe\">\n",
       "  <thead>\n",
       "    <tr style=\"text-align: right;\">\n",
       "      <th></th>\n",
       "      <th>YEAR</th>\n",
       "      <th>STATE</th>\n",
       "      <th>TYPE OF PRODUCER</th>\n",
       "      <th>ENERGY SOURCE              (UNITS)</th>\n",
       "      <th>CONSUMPTION for ELECTRICITY</th>\n",
       "    </tr>\n",
       "  </thead>\n",
       "  <tbody>\n",
       "    <tr>\n",
       "      <th>23273</th>\n",
       "      <td>2020</td>\n",
       "      <td>WY</td>\n",
       "      <td>Electric Generators, Independent Power Producers</td>\n",
       "      <td>Coal (Short Tons)</td>\n",
       "      <td>527,062</td>\n",
       "    </tr>\n",
       "    <tr>\n",
       "      <th>23274</th>\n",
       "      <td>2020</td>\n",
       "      <td>WY</td>\n",
       "      <td>Electric Generators, Independent Power Producers</td>\n",
       "      <td>Natural Gas (Mcf)</td>\n",
       "      <td>16,492</td>\n",
       "    </tr>\n",
       "    <tr>\n",
       "      <th>23275</th>\n",
       "      <td>2020</td>\n",
       "      <td>WY</td>\n",
       "      <td>Electric Generators, Electric Utilities</td>\n",
       "      <td>Coal (Short Tons)</td>\n",
       "      <td>20,339,363</td>\n",
       "    </tr>\n",
       "    <tr>\n",
       "      <th>23276</th>\n",
       "      <td>2020</td>\n",
       "      <td>WY</td>\n",
       "      <td>Electric Generators, Electric Utilities</td>\n",
       "      <td>Natural Gas (Mcf)</td>\n",
       "      <td>5,710,278</td>\n",
       "    </tr>\n",
       "    <tr>\n",
       "      <th>23277</th>\n",
       "      <td>2020</td>\n",
       "      <td>WY</td>\n",
       "      <td>Electric Generators, Electric Utilities</td>\n",
       "      <td>Petroleum (Barrels)</td>\n",
       "      <td>83,736</td>\n",
       "    </tr>\n",
       "  </tbody>\n",
       "</table>\n",
       "</div>"
      ],
      "text/plain": [
       "       YEAR STATE                                  TYPE OF PRODUCER  \\\n",
       "23273  2020    WY  Electric Generators, Independent Power Producers   \n",
       "23274  2020    WY  Electric Generators, Independent Power Producers   \n",
       "23275  2020    WY           Electric Generators, Electric Utilities   \n",
       "23276  2020    WY           Electric Generators, Electric Utilities   \n",
       "23277  2020    WY           Electric Generators, Electric Utilities   \n",
       "\n",
       "      ENERGY SOURCE              (UNITS) CONSUMPTION for ELECTRICITY  \n",
       "23273                  Coal (Short Tons)                     527,062  \n",
       "23274                  Natural Gas (Mcf)                      16,492  \n",
       "23275                  Coal (Short Tons)                  20,339,363  \n",
       "23276                  Natural Gas (Mcf)                   5,710,278  \n",
       "23277                Petroleum (Barrels)                      83,736  "
      ]
     },
     "execution_count": 10,
     "metadata": {},
     "output_type": "execute_result"
    }
   ],
   "source": [
    "eia_annual_consumption.tail()"
   ]
  },
  {
   "cell_type": "code",
   "execution_count": 11,
   "id": "750cbc9b",
   "metadata": {},
   "outputs": [
    {
     "data": {
      "text/plain": [
       "array([1990, 1991, 1992, 1993, 1994, 1995, 1996, 1997, 1998, 1999, 2000,\n",
       "       2001, 2002, 2003, 2004, 2005, 2006, 2007, 2008, 2009, 2010, 2011,\n",
       "       2012, 2013, 2014, 2015, 2016, 2017, 2018, 2019, 2020], dtype=int64)"
      ]
     },
     "execution_count": 11,
     "metadata": {},
     "output_type": "execute_result"
    }
   ],
   "source": [
    "eia_annual_consumption['YEAR'].unique()"
   ]
  },
  {
   "cell_type": "code",
   "execution_count": 12,
   "id": "03aafe0f",
   "metadata": {},
   "outputs": [],
   "source": [
    "indexes = eia_annual_consumption[eia_annual_consumption['STATE'] == 'US-TOTAL'].index\n"
   ]
  },
  {
   "cell_type": "code",
   "execution_count": 13,
   "id": "747a1436",
   "metadata": {},
   "outputs": [],
   "source": [
    "eia_annual_consumption.drop(indexes,inplace=True)\n"
   ]
  },
  {
   "cell_type": "code",
   "execution_count": 14,
   "id": "2bff8aa2",
   "metadata": {},
   "outputs": [
    {
     "name": "stdout",
     "output_type": "stream",
     "text": [
      "<class 'pandas.core.frame.DataFrame'>\n",
      "Int64Index: 22748 entries, 0 to 23277\n",
      "Data columns (total 5 columns):\n",
      " #   Column                              Non-Null Count  Dtype \n",
      "---  ------                              --------------  ----- \n",
      " 0   YEAR                                22748 non-null  int64 \n",
      " 1   STATE                               22748 non-null  object\n",
      " 2   TYPE OF PRODUCER                    22748 non-null  object\n",
      " 3   ENERGY SOURCE              (UNITS)  22748 non-null  object\n",
      " 4   CONSUMPTION for ELECTRICITY         22748 non-null  object\n",
      "dtypes: int64(1), object(4)\n",
      "memory usage: 1.0+ MB\n"
     ]
    }
   ],
   "source": [
    "eia_annual_consumption.info()"
   ]
  },
  {
   "cell_type": "code",
   "execution_count": 15,
   "id": "15f783b3",
   "metadata": {},
   "outputs": [],
   "source": [
    "eia_annual_consumption.to_csv(r'../data/Source of Data - eia.gov/from_python_csv/annual_consumption_state.csv', index = False)"
   ]
  },
  {
   "cell_type": "code",
   "execution_count": null,
   "id": "fb861526",
   "metadata": {},
   "outputs": [],
   "source": []
  }
 ],
 "metadata": {
  "kernelspec": {
   "display_name": "Python 3",
   "language": "python",
   "name": "python3"
  },
  "language_info": {
   "codemirror_mode": {
    "name": "ipython",
    "version": 3
   },
   "file_extension": ".py",
   "mimetype": "text/x-python",
   "name": "python",
   "nbconvert_exporter": "python",
   "pygments_lexer": "ipython3",
   "version": "3.8.8"
  }
 },
 "nbformat": 4,
 "nbformat_minor": 5
}
